{
 "cells": [
  {
   "cell_type": "markdown",
   "metadata": {},
   "source": [
    "### PROMPT\n",
    "Of all the countries that have participated in the survey:\n",
    "\n",
    "Which country has the highest/lowest GAD, SWL, SPIN levels \n",
    "\n",
    "Do these countries have anything else in common -SWL levels, gender, motivations, hours of play,etc\n",
    "\n",
    "Things to note:\n",
    "about 2k lines were dropped from the original data b/c of N/A's"
   ]
  },
  {
   "cell_type": "code",
   "execution_count": 11,
   "metadata": {},
   "outputs": [
    {
     "data": {
      "text/html": [
       "<div>\n",
       "<style scoped>\n",
       "    .dataframe tbody tr th:only-of-type {\n",
       "        vertical-align: middle;\n",
       "    }\n",
       "\n",
       "    .dataframe tbody tr th {\n",
       "        vertical-align: top;\n",
       "    }\n",
       "\n",
       "    .dataframe thead th {\n",
       "        text-align: right;\n",
       "    }\n",
       "</style>\n",
       "<table border=\"1\" class=\"dataframe\">\n",
       "  <thead>\n",
       "    <tr style=\"text-align: right;\">\n",
       "      <th></th>\n",
       "      <th>Unnamed: 0</th>\n",
       "      <th>Entry</th>\n",
       "      <th>Gender</th>\n",
       "      <th>Age</th>\n",
       "      <th>Residence</th>\n",
       "      <th>Birthplace</th>\n",
       "      <th>Work</th>\n",
       "      <th>Degree</th>\n",
       "      <th>Game</th>\n",
       "      <th>Hours per Week</th>\n",
       "      <th>...</th>\n",
       "      <th>SPIN9</th>\n",
       "      <th>SPIN10</th>\n",
       "      <th>SPIN11</th>\n",
       "      <th>SPIN12</th>\n",
       "      <th>SPIN13</th>\n",
       "      <th>SPIN14</th>\n",
       "      <th>SPIN15</th>\n",
       "      <th>SPIN16</th>\n",
       "      <th>SPIN17</th>\n",
       "      <th>SPIN Total</th>\n",
       "    </tr>\n",
       "  </thead>\n",
       "  <tbody>\n",
       "    <tr>\n",
       "      <th>0</th>\n",
       "      <td>0</td>\n",
       "      <td>1</td>\n",
       "      <td>Male</td>\n",
       "      <td>25</td>\n",
       "      <td>USA</td>\n",
       "      <td>USA</td>\n",
       "      <td>Unemployed / between jobs</td>\n",
       "      <td>Bachelor (or equivalent)</td>\n",
       "      <td>Skyrim</td>\n",
       "      <td>15</td>\n",
       "      <td>...</td>\n",
       "      <td>0</td>\n",
       "      <td>0</td>\n",
       "      <td>0</td>\n",
       "      <td>0</td>\n",
       "      <td>0</td>\n",
       "      <td>1</td>\n",
       "      <td>0</td>\n",
       "      <td>1</td>\n",
       "      <td>0</td>\n",
       "      <td>5</td>\n",
       "    </tr>\n",
       "    <tr>\n",
       "      <th>1</th>\n",
       "      <td>1</td>\n",
       "      <td>2</td>\n",
       "      <td>Male</td>\n",
       "      <td>41</td>\n",
       "      <td>USA</td>\n",
       "      <td>USA</td>\n",
       "      <td>Unemployed / between jobs</td>\n",
       "      <td>Bachelor (or equivalent)</td>\n",
       "      <td>Other</td>\n",
       "      <td>8</td>\n",
       "      <td>...</td>\n",
       "      <td>4</td>\n",
       "      <td>0</td>\n",
       "      <td>3</td>\n",
       "      <td>0</td>\n",
       "      <td>1</td>\n",
       "      <td>3</td>\n",
       "      <td>3</td>\n",
       "      <td>1</td>\n",
       "      <td>2</td>\n",
       "      <td>33</td>\n",
       "    </tr>\n",
       "    <tr>\n",
       "      <th>2</th>\n",
       "      <td>2</td>\n",
       "      <td>3</td>\n",
       "      <td>Female</td>\n",
       "      <td>32</td>\n",
       "      <td>DEU</td>\n",
       "      <td>DEU</td>\n",
       "      <td>Employed</td>\n",
       "      <td>Bachelor (or equivalent)</td>\n",
       "      <td>Other</td>\n",
       "      <td>0</td>\n",
       "      <td>...</td>\n",
       "      <td>0</td>\n",
       "      <td>1</td>\n",
       "      <td>1</td>\n",
       "      <td>3</td>\n",
       "      <td>0</td>\n",
       "      <td>2</td>\n",
       "      <td>4</td>\n",
       "      <td>4</td>\n",
       "      <td>2</td>\n",
       "      <td>31</td>\n",
       "    </tr>\n",
       "    <tr>\n",
       "      <th>3</th>\n",
       "      <td>3</td>\n",
       "      <td>4</td>\n",
       "      <td>Male</td>\n",
       "      <td>28</td>\n",
       "      <td>USA</td>\n",
       "      <td>USA</td>\n",
       "      <td>Employed</td>\n",
       "      <td>Bachelor (or equivalent)</td>\n",
       "      <td>Other</td>\n",
       "      <td>20</td>\n",
       "      <td>...</td>\n",
       "      <td>0</td>\n",
       "      <td>0</td>\n",
       "      <td>1</td>\n",
       "      <td>3</td>\n",
       "      <td>0</td>\n",
       "      <td>0</td>\n",
       "      <td>1</td>\n",
       "      <td>0</td>\n",
       "      <td>0</td>\n",
       "      <td>11</td>\n",
       "    </tr>\n",
       "    <tr>\n",
       "      <th>4</th>\n",
       "      <td>4</td>\n",
       "      <td>5</td>\n",
       "      <td>Male</td>\n",
       "      <td>19</td>\n",
       "      <td>KOR</td>\n",
       "      <td>USA</td>\n",
       "      <td>Employed</td>\n",
       "      <td>High school diploma (or equivalent)</td>\n",
       "      <td>Other</td>\n",
       "      <td>20</td>\n",
       "      <td>...</td>\n",
       "      <td>2</td>\n",
       "      <td>0</td>\n",
       "      <td>1</td>\n",
       "      <td>0</td>\n",
       "      <td>0</td>\n",
       "      <td>0</td>\n",
       "      <td>0</td>\n",
       "      <td>3</td>\n",
       "      <td>0</td>\n",
       "      <td>13</td>\n",
       "    </tr>\n",
       "  </tbody>\n",
       "</table>\n",
       "<p>5 rows × 44 columns</p>\n",
       "</div>"
      ],
      "text/plain": [
       "   Unnamed: 0  Entry  Gender  Age Residence Birthplace  \\\n",
       "0           0      1    Male   25       USA        USA   \n",
       "1           1      2    Male   41       USA        USA   \n",
       "2           2      3  Female   32       DEU        DEU   \n",
       "3           3      4    Male   28       USA        USA   \n",
       "4           4      5    Male   19       KOR        USA   \n",
       "\n",
       "                        Work                               Degree    Game  \\\n",
       "0  Unemployed / between jobs             Bachelor (or equivalent)  Skyrim   \n",
       "1  Unemployed / between jobs             Bachelor (or equivalent)   Other   \n",
       "2                   Employed             Bachelor (or equivalent)   Other   \n",
       "3                   Employed             Bachelor (or equivalent)   Other   \n",
       "4                   Employed  High school diploma (or equivalent)   Other   \n",
       "\n",
       "   Hours per Week  ... SPIN9 SPIN10  SPIN11  SPIN12  SPIN13  SPIN14  SPIN15  \\\n",
       "0              15  ...     0      0       0       0       0       1       0   \n",
       "1               8  ...     4      0       3       0       1       3       3   \n",
       "2               0  ...     0      1       1       3       0       2       4   \n",
       "3              20  ...     0      0       1       3       0       0       1   \n",
       "4              20  ...     2      0       1       0       0       0       0   \n",
       "\n",
       "   SPIN16  SPIN17  SPIN Total  \n",
       "0       1       0           5  \n",
       "1       1       2          33  \n",
       "2       4       2          31  \n",
       "3       0       0          11  \n",
       "4       3       0          13  \n",
       "\n",
       "[5 rows x 44 columns]"
      ]
     },
     "execution_count": 11,
     "metadata": {},
     "output_type": "execute_result"
    }
   ],
   "source": [
    "#import dependencies\n",
    "import pandas as pd\n",
    "from pathlib import Path\n",
    "import matplotlib.pyplot as plt\n",
    "import numpy as np\n",
    "import scipy.stats as stats\n",
    "import scipy.stats as st\n",
    "from scipy.stats import linregress\n",
    "import random\n",
    "\n",
    "#reference file path\n",
    "data = Path(\"../data_cleanup/Gaming.csv\")\n",
    "\n",
    "#import data into dataframe\n",
    "gaming_df = pd.read_csv(data, encoding=\"UTF-8\")\n",
    "\n",
    "gaming_df.head()\n"
   ]
  },
  {
   "cell_type": "code",
   "execution_count": 12,
   "metadata": {},
   "outputs": [
    {
     "data": {
      "text/plain": [
       "11138"
      ]
     },
     "execution_count": 12,
     "metadata": {},
     "output_type": "execute_result"
    }
   ],
   "source": [
    "#total rows of gaming dataframe\n",
    "len(gaming_df)"
   ]
  },
  {
   "cell_type": "code",
   "execution_count": 13,
   "metadata": {},
   "outputs": [
    {
     "data": {
      "text/plain": [
       "Gender\n",
       "Male      10463\n",
       "Female      638\n",
       "Other        37\n",
       "Name: count, dtype: int64"
      ]
     },
     "execution_count": 13,
     "metadata": {},
     "output_type": "execute_result"
    }
   ],
   "source": [
    "#total genders\n",
    "gcount=gaming_df[\"Gender\"].value_counts()\n",
    "gcount"
   ]
  },
  {
   "cell_type": "code",
   "execution_count": 14,
   "metadata": {},
   "outputs": [
    {
     "data": {
      "image/png": "[encoded data removed]",
      "text/plain": [
       "<Figure size 640x480 with 1 Axes>"
      ]
     },
     "metadata": {},
     "output_type": "display_data"
    }
   ],
   "source": [
    "#pie chart of gender\n",
    "plt.pie(gcount,labels=gcount.index,autopct=\"%1.1f%%\",startangle=160)\n",
    "plt.title(\"Genders in Survey\")\n",
    "plt.savefig('../images/gender_pie.png')"
   ]
  },
  {
   "cell_type": "markdown",
   "metadata": {},
   "source": [
    "The pie graph shows that the survey was taken by mostly men."
   ]
  },
  {
   "cell_type": "code",
   "execution_count": 15,
   "metadata": {},
   "outputs": [
    {
     "data": {
      "image/png": "[encoded data removed]",
      "text/plain": [
       "<Figure size 1200x600 with 1 Axes>"
      ]
     },
     "metadata": {},
     "output_type": "display_data"
    }
   ],
   "source": [
    "#total countries listed in \"Residence\" column\n",
    "rcount=gaming_df[\"Residence\"].value_counts()\n",
    "\n",
    "#listing the top 25 countries\n",
    "top25=rcount.head(25).index.tolist()\n",
    "\n",
    "#filtering dataframe for only the 25 countries\n",
    "gaming25_df=gaming_df[gaming_df[\"Residence\"].isin(top25)]\n",
    "\n",
    "#bar graph that shows the count of rows per country\n",
    "country_counts=gaming25_df[\"Residence\"].value_counts()\n",
    "\n",
    "plt.figure(figsize=(12,6))\n",
    "country_counts.plot(kind=\"bar\", color=\"cornflowerblue\")\n",
    "plt.title(\"Survey count for top 25 Countries\")\n",
    "plt.xlabel(\"Country\")\n",
    "plt.ylabel(\"Count\")\n",
    "plt.savefig('../images/top25_survey_count_bar.png')"
   ]
  },
  {
   "cell_type": "markdown",
   "metadata": {},
   "source": [
    "This bar graph shows that a significant amount of data was taken from the USA."
   ]
  },
  {
   "cell_type": "code",
   "execution_count": 17,
   "metadata": {},
   "outputs": [],
   "source": [
    "#empty list for test properties of each country: median\n",
    "gmed=[]\n",
    "smed=[]\n",
    "spmed=[]\n",
    "\n",
    "# loop getting median for eacch studies \"total\" columns per country\n",
    "for country in top25:\n",
    "    #group by country\n",
    "    country_grp=gaming25_df[gaming25_df['Residence']==country]\n",
    "    #calculate avg for each total column\n",
    "    gmed.append(country_grp['GAD Total'].median())\n",
    "    smed.append(country_grp['SWL Total'].median())\n",
    "    spmed.append(country_grp['SPIN Total'].median())\n",
    "\n",
    "# creating a new dataframe from the above info\n",
    "statsummary=pd.DataFrame({\"Residence Country\": top25,\n",
    "                         \"Median GAD Total\":gmed,\n",
    "                         \"Median SWL Total\":smed,\n",
    "                         \"Median SPIN Total\":spmed\n",
    "                        })\n",
    "\n",
    "# setting the Residence Country as the index\n",
    "statsummary.set_index(\"Residence Country\", inplace=True)\n",
    "\n",
    "# plot scatter plots for each median test total \n",
    "\n",
    "for column in statsummary.columns:\n",
    "    sorted_data=statsummary[column].sort_values(ascending=False)\n",
    "    x=sorted_data.index\n",
    "    plt.figure()\n",
    "    plt.bar(x,sorted_data,color=\"cornflowerblue\")\n",
    "    plt.xticks(rotation=45)\n",
    "    plt.title(f\"Residence Country vs {column}\")\n",
    "    plt.xlabel(\"Residence Country\")\n",
    "    plt.ylabel(column);\n",
    "\n",
    "    # Save the plot as a PNG file with a unique name based on the column\n",
    "    plt.savefig(f\"../images/residence_country_vs_{column}.png\")\n",
    "    plt.close()"
   ]
  },
  {
   "cell_type": "markdown",
   "metadata": {},
   "source": [
    "Having plotted and calculated the properties of each total psychological rating scales for the mean, median, variance, standard deviation and SEM, I decided that the median showed a clear representation of the type of the country residence might implicate the rating survey takers were giving.\n",
    "\n",
    "As an example in the residence country vs median GAD total bar graph, you see countries like Denmark, Finland, Norway, Austria - mostly all countries inland Europe area showing the survey takers felt minimal anxiety associated with game play. For a sharp contrast Romania, Italy and Spain survey takers felt mild anxiety associated with game play.\n",
    "\n",
    "The same sentiments show in the SWL and SPIN tests."
   ]
  },
  {
   "cell_type": "code",
   "execution_count": null,
   "metadata": {},
   "outputs": [],
   "source": []
  }
 ],
 "metadata": {
  "kernelspec": {
   "display_name": "base",
   "language": "python",
   "name": "python3"
  },
  "language_info": {
   "codemirror_mode": {
    "name": "ipython",
    "version": 3
   },
   "file_extension": ".py",
   "mimetype": "text/x-python",
   "name": "python",
   "nbconvert_exporter": "python",
   "pygments_lexer": "ipython3",
   "version": "3.11.7"
  }
 },
 "nbformat": 4,
 "nbformat_minor": 2
}
